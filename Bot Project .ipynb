{
 "cells": [
  {
   "cell_type": "code",
   "execution_count": 1,
   "metadata": {},
   "outputs": [
    {
     "name": "stdout",
     "output_type": "stream",
     "text": [
      "What is your name? Katherine\n"
     ]
    }
   ],
   "source": [
    "name = input(\"What is your name? \")"
   ]
  },
  {
   "cell_type": "code",
   "execution_count": 2,
   "metadata": {},
   "outputs": [
    {
     "name": "stdout",
     "output_type": "stream",
     "text": [
      "Katherine\n"
     ]
    }
   ],
   "source": [
    "print(name)"
   ]
  },
  {
   "cell_type": "code",
   "execution_count": null,
   "metadata": {},
   "outputs": [],
   "source": [
    "def cs_service_bot():\n",
    "    print(\"Hello! Welcome to the DNS Cable Company's Service Portal. Are you a new or existing customer?\\n[1] New Customer\\n[2] Existing Customer\")\n",
    "    response = input(\"Please enter the number corresponding to your choice: \")\n",
    "    if response == \"1\":\n",
    "        return new_customer()\n",
    "    elif response == (2):\n",
    "        return existing_customer()\n",
    "    else: \n",
    "        print(\"Sorry, we didn't understand your selection.\")\n",
    "        return cs_service_bot\n",
    "    "
   ]
  },
  {
   "cell_type": "code",
   "execution_count": null,
   "metadata": {},
   "outputs": [],
   "source": [
    "cs_service_bot()"
   ]
  },
  {
   "cell_type": "code",
   "execution_count": null,
   "metadata": {},
   "outputs": [],
   "source": [
    "def existing_customer():\n",
    "    print(\"What kind og support do you need?\\n[1] Television Support\\n[2] Internet Support\\n[3] Speak to a support representative.\")\n",
    "    choice = input(\"Please enter the number coresponding to your choice: \")\n",
    "    if choice == \"1\":\n",
    "        return television_support()\n",
    "    elif choice == \"2\":\n",
    "        return internet_support()\n",
    "    elif choice == \"3\":\n",
    "        return live_rep(\"support\") \n",
    "    else: \n",
    "        print(\"Sorry, we didn't understand your selection.\")\n",
    "        return existing_customer()\n",
    "      \n",
    "    \n"
   ]
  },
  {
   "cell_type": "code",
   "execution_count": null,
   "metadata": {},
   "outputs": [],
   "source": [
    "def new_customer():\n",
    "    print (\"We're excited to have you join the DNS family, how can we help you?\\n[1] Sign up for service\\n[2] Schedule a home visit\\n[3] Speak to a sales representative.\")\n",
    "    answer = input(\"Please enter the number coresponding to your choice: \")\n",
    "    if answer == \"1\":\n",
    "        return sign_up()\n",
    "    elif answer == \"2\":\n",
    "        return home_visit()\n",
    "    elif answer == \"3\":\n",
    "        return live_rep(\"sales\") \n",
    "    else:\n",
    "        print(\"Sorry we didn't understand your selection.\")\n",
    "        return new_customer()\n",
    "        \n",
    "    "
   ]
  },
  {
   "cell_type": "code",
   "execution_count": null,
   "metadata": {},
   "outputs": [],
   "source": [
    "def television_support():\n",
    "    print(\"What is the nature of your problem?:\\n[1] I can't access sertain channels.\\n[2] My picture is blurry.\\n[3] I keep losing service.\\n[4] Other issues.\")\n",
    "    ans = input(\"Please enter the number coresponding to your choice: \")\n",
    "    if ans == \"1\":\n",
    "        print(\"Please check the channel lists at DefinitelyNotSinister.com. If the channel you cannot access is there, please contact a live representative.\")\n",
    "        return did_that_help()\n",
    "    elif ans == \"2\":\n",
    "        print(\"Try adjusting the antenna above your television set.\")\n",
    "        return did_that_help()\n",
    "    elif ans == \"3\":\n",
    "        print(\"Is it raining outside? If so, wait untill it is not raining and then try again.\")\n",
    "        return did_that_help()\n",
    "    elif ans == \"4\":\n",
    "        return live_rep(\"support\")\n",
    "    else: \n",
    "        print(\"Sorry we didn't understand your selection.\")\n",
    "        return television_support()"
   ]
  },
  {
   "cell_type": "code",
   "execution_count": null,
   "metadata": {},
   "outputs": [],
   "source": [
    "def internet_support():\n",
    "    print(\"What is the nature of your problem?:\\n[1] I can't connect to the internet.\\n[2] <y connection is very slow.\\n[3] I can't access certain sites.\\n[4] Other issues.\")\n",
    "    pick = input(\"Please enter the number coresponding to your choice: \")\n",
    "    if pick == \"1\":\n",
    "        print(\"Unplug your router, then plug it back in, then give it a good whack, like the Fonz.\")\n",
    "        return did_that_help()\n",
    "    elif pick == \"2\":\n",
    "        print(\"Make sure that all cell phones and other peoples computers ar enot connected to the internet, so that you can have all the bandwidth.\")\n",
    "        return did_that_help()\n",
    "    elif pick == \"3\":\n",
    "        print(\"Move to a different region or install a VPN. Some areas block certain sites.\")\n",
    "        return did_that_help()\n",
    "    elif pick == \"4\":\n",
    "        return live_rep(\"support\")\n",
    "    else: \n",
    "        print(\"Sorry we didn't understand your selection.\")\n",
    "        return internet_support()"
   ]
  },
  {
   "cell_type": "code",
   "execution_count": null,
   "metadata": {},
   "outputs": [],
   "source": [
    "def did_that_help():\n",
    "    print(\"Did the solution solve your problem?\\nYes\\nNo\")\n",
    "    sol_solve = input(\"Enter answer: \")\n",
    "    if sol_solve.lower() == \"Yes\".lower():\n",
    "        return \"Thank you!\"\n",
    "    elif sol_solve.lower() == \"No\".lower():\n",
    "        print(\"Which would you prefer next?\\n[1] Talk to a live representative.\\n[2] Schedule a home visit.\")\n",
    "        next_step = input(\"Please enter the number coresponding to your choice: \")\n",
    "        if next_step == \"1\":\n",
    "            return live_rep(\"support\")\n",
    "        elif next_step == \"2\":\n",
    "            return home_visit(\"support\")\n",
    "        else: \n",
    "            print(\"Sorry we didn't understand your selection.\")\n",
    "            return did_that_help()\n",
    "        "
   ]
  },
  {
   "cell_type": "code",
   "execution_count": null,
   "metadata": {},
   "outputs": [],
   "source": [
    "def sign_up():\n",
    "    print(\"Great choice, friend! We're excited to have you join the DNS family! Please select the package you are interested in signing up for.\\n[1] Bundle Deal (Internet + Cable)\\n[2] Internet\\n[3] Cable\")\n",
    "    join_fam = input(\"Please enter the number coresponding to your choice: \")\n",
    "    if join_fam == \"1\":\n",
    "        print(\"You've selected the Bundle Package! Please schedule a home visit and out technician will come and set up your new service.\")\n",
    "        return home_visit(\"new install\")\n",
    "    elif join_fam == \"2\":\n",
    "        print(\"You've selected the Internet Only Package! Please schedule a home visit and our technician will come and set up your nre service.\")\n",
    "        return home_visit(\"new install\")\n",
    "    elif join_fam == \"3\":\n",
    "        print(\"You've slected the Cable Only Package! Please schedule a home visit and our technician will come and set up your nre service.\")\n",
    "        return home_visit(\"new install\")\n",
    "    else: \n",
    "        print(\"Sorry we didn't understand your selection.\")\n",
    "        return sign_up()"
   ]
  },
  {
   "cell_type": "code",
   "execution_count": null,
   "metadata": {},
   "outputs": [],
   "source": [
    "purpose = \"none\"\n",
    "def home_visit(purpose):\n",
    "    if purpose == \"none\":\n",
    "        print(\"What is the purpose of your home visit?\\n[1] New service installation.\\n[2] Existing service repair.\\n[3] Location scouting for unserviced region.\")\n",
    "        visit_reason = input(\"Please enter the number coresponding to your choice: \")\n",
    "        if visit_reason == \"1\":\n",
    "            return home_visit(\"new install\")\n",
    "        elif visit_reason == \"2\":\n",
    "            return home_visit(\"support\")\n",
    "        elif visit_reason == \"3\":\n",
    "            return home_visit(\"scout\")\n",
    "        else: \n",
    "            print(\"Please enter a date below when you are avliable for a technician to come to your house and: \")\n",
    "            visit_date = input()\n",
    "            return \"Wonderful! A technical will come visit you on\", visit_date, \"Please be avilable between the hours of 1:00 am and 11:00 pm.\"\n",
    "    "
   ]
  },
  {
   "cell_type": "code",
   "execution_count": null,
   "metadata": {},
   "outputs": [],
   "source": [
    "def live_rep(purpose):\n",
    "    purpose = input(\"Please enter the purpose of your call(sales or support): \")\n",
    "    if purpose.lower() == \"sales\".lower():\n",
    "        print(\"Please hold while we connect you with a live sales representative. The wait time will be between two minutes and sis hours. We thank you for yout patience.\")\n",
    "    elif purpose.lower() == \"support\".lower():\n",
    "        print(\"Please hold while we connect you with a live support representative. The wait time will be between two minutes and sis hours. We thank you for yout patience.\")\n",
    "    else: \n",
    "        print(\"Sorry we didn't understand your selection.\")\n",
    "        return live_rep()"
   ]
  },
  {
   "cell_type": "code",
   "execution_count": null,
   "metadata": {},
   "outputs": [],
   "source": [
    "cs_service_bot()"
   ]
  }
 ],
 "metadata": {
  "kernelspec": {
   "display_name": "Python 3",
   "language": "python",
   "name": "python3"
  },
  "language_info": {
   "codemirror_mode": {
    "name": "ipython",
    "version": 3
   },
   "file_extension": ".py",
   "mimetype": "text/x-python",
   "name": "python",
   "nbconvert_exporter": "python",
   "pygments_lexer": "ipython3",
   "version": "3.7.3"
  }
 },
 "nbformat": 4,
 "nbformat_minor": 2
}
